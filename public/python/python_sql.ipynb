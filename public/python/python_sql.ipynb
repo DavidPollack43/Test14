{
 "cells": [
  {
   "cell_type": "markdown",
   "metadata": {},
   "source": [
    "# SQL"
   ]
  },
  {
   "cell_type": "code",
   "execution_count": 1,
   "metadata": {},
   "outputs": [
    {
     "name": "stdout",
     "output_type": "stream",
     "text": [
      "[(687904,)]\n"
     ]
    }
   ],
   "source": [
    "import csv\n",
    "import sqlite3\n",
    "# load data\n",
    "csvfile = open('names2K.csv','r')\n",
    "reader = csv.DictReader(csvfile)\n",
    "data = [row for row in reader]\n",
    "csvfile.close()\n",
    "\n",
    "# clean data\n",
    "for d in data:\n",
    "    d['year'] = int(d['year'])\n",
    "    d['count'] = int(d['count'])\n",
    "\n",
    "# insert in table\n",
    "con = sqlite3.connect('names2K.db')\n",
    "cur = con.cursor()\n",
    "cur.execute(\"CREATE TABLE IF NOT EXISTS babynames (year int, name text, sex text, count int)\")\n",
    "for d in data:\n",
    "  cur.execute(\"INSERT INTO babynames VALUES(?,?,?,?)\",tuple(d.values()))\n",
    "cur.execute(\"SELECT count(*) from babynames\")\n",
    "print(cur.fetchall())\n",
    "con.commit()\n",
    "con.close()\n"
   ]
  }
 ],
 "metadata": {
  "kernelspec": {
   "display_name": "Python 3",
   "language": "python",
   "name": "python3"
  },
  "language_info": {
   "codemirror_mode": {
    "name": "ipython",
    "version": 3
   },
   "file_extension": ".py",
   "mimetype": "text/x-python",
   "name": "python",
   "nbconvert_exporter": "python",
   "pygments_lexer": "ipython3",
   "version": "3.8.5"
  }
 },
 "nbformat": 4,
 "nbformat_minor": 4
}
