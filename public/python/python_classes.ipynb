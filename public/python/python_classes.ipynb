{
 "cells": [
  {
   "cell_type": "markdown",
   "metadata": {},
   "source": [
    "# Python Classes\n",
    "\n",
    "Define the class Rectangle where Rectangle(a,b,c,d) represents a rectangle whose lower right corner is at (a,b)\n",
    "and whose upper left corner is at (c,d).\n",
    "```\n",
    "(a,b,c,d) intersect (u,v,w,x) = (max(a,u), max(b,v), min(c,w), min(d,x))\n",
    "(a,b,c,d) translate(r,s)      = (a+r,b+s,c+r,d+s)\n",
    "```\n",
    "\n",
    "Write the code for the Rectangle class with four methods\n",
    "``` python\n",
    "__init__  \n",
    "__str__\n",
    ".intersect\n",
    ".translate\n",
    "```\n",
    "\n",
    "and test it with the following code\n",
    "\n",
    "\n"
   ]
  },
  {
   "cell_type": "code",
   "execution_count": 1,
   "metadata": {},
   "outputs": [
    {
     "name": "stdout",
     "output_type": "stream",
     "text": [
      "e= [(1,2),(3,10)]\n",
      "f= [(0,3),(6,8)]\n",
      "g= [(1,3),(3,8)]\n",
      "e1= [(11,22),(13,30)]\n",
      "f1= [(10,23),(16,28)]\n",
      "h= [(1,3),(3,8)]\n"
     ]
    }
   ],
   "source": [
    "from rectangle import Rectangle  # load the class, use Kernel/reset Kerneal and run all cells to reload an inported class\n",
    "e=Rectangle(1,2,3,10)\n",
    "f=Rectangle(0,3,6,8)\n",
    "g=e.intersect(f)\n",
    "e1 = e.translate(10,20)\n",
    "f1 = f.translate(10,20)\n",
    "h=e1.intersect(f1).translate(-10,-20)\n",
    "print('e=',e)\n",
    "print('f=',f)\n",
    "print('g=',g)\n",
    "print('e1=',e1)\n",
    "print('f1=',f1)\n",
    "print('h=',h)\n"
   ]
  },
  {
   "cell_type": "markdown",
   "metadata": {},
   "source": [
    "Which should produce the following output:\n",
    "``` python\n",
    "e= [(1,2),(3,10)]\n",
    "f= [(0,3),(6,8)]\n",
    "g= [(1,3),(3,8)]\n",
    "e1= [(11,22),(13,30)]\n",
    "f1= [(10,23),(16,28)]\n",
    "h= [(1,3),(3,8)]\n",
    "```"
   ]
  },
  {
   "cell_type": "code",
   "execution_count": null,
   "metadata": {},
   "outputs": [],
   "source": []
  }
 ],
 "metadata": {
  "kernelspec": {
   "display_name": "Python 3",
   "language": "python",
   "name": "python3"
  },
  "language_info": {
   "codemirror_mode": {
    "name": "ipython",
    "version": 3
   },
   "file_extension": ".py",
   "mimetype": "text/x-python",
   "name": "python",
   "nbconvert_exporter": "python",
   "pygments_lexer": "ipython3",
   "version": "3.8.5"
  }
 },
 "nbformat": 4,
 "nbformat_minor": 4
}
