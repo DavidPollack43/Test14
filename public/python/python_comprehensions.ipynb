{
 "cells": [
  {
   "cell_type": "markdown",
   "metadata": {},
   "source": [
    "# Python Comprehensions"
   ]
  },
  {
   "cell_type": "code",
   "execution_count": 7,
   "metadata": {},
   "outputs": [
    {
     "name": "stdout",
     "output_type": "stream",
     "text": [
      "('Fundamentals of Environmental Challenges', 141)\n",
      "('Introduction to Law', 145)\n",
      "('Introduction to Problem Solving in Python', 150)\n",
      "('Introduction to Psychology', 166)\n",
      "('Introduction to 3-D Animation', 166)\n",
      "('Introduction to Psychology', 170)\n",
      "('American Health Care', 175)\n",
      "('Organic Chemistry II', 180)\n",
      "('Cells and Organisms', 181)\n",
      "('Organic Chemistry I', 186)\n",
      "('Physiology', 186)\n",
      "('Introduction to Navigating Health and Safety', 784)\n"
     ]
    }
   ],
   "source": [
    "import json\n",
    "with open('courses20-21.json','r') as target:\n",
    "    scan = json.load(target)\n",
    "    info = [row for row in scan]\n",
    "\n",
    "\n",
    "data = [b for b in info if b['enrolled']>140]\n",
    "store=[]\n",
    "for r in data:\n",
    "    s=(r['name'],r['enrolled'])\n",
    "    store.append(s)\n",
    "    \n",
    "store.sort(key=lambda y: y[1])\n",
    "\n",
    "count=0\n",
    "for m in store:\n",
    "    print(m)\n"
   ]
  }
 ],
 "metadata": {
  "interpreter": {
   "hash": "9c78ec32882fec3732283487fdfd7d674f06b29a7008e74a9001c2d4eacc3c0a"
  },
  "kernelspec": {
   "display_name": "Python 3.10.4 64-bit (windows store)",
   "language": "python",
   "name": "python3"
  },
  "language_info": {
   "codemirror_mode": {
    "name": "ipython",
    "version": 3
   },
   "file_extension": ".py",
   "mimetype": "text/x-python",
   "name": "python",
   "nbconvert_exporter": "python",
   "pygments_lexer": "ipython3",
   "version": "3.10.4"
  }
 },
 "nbformat": 4,
 "nbformat_minor": 4
}
