{
 "cells": [
  {
   "cell_type": "markdown",
   "metadata": {},
   "source": [
    "# Python Comprehensions"
   ]
  },
  {
   "cell_type": "code",
   "execution_count": null,
   "metadata": {},
   "outputs": [],
   "source": []
  },
  {
   "cell_type": "code",
   "execution_count": 11,
   "metadata": {},
   "outputs": [
    {
     "name": "stdin",
     "output_type": "stream",
     "text": [
      "Enter a name:  Emma\n",
      "Enter a sex (M or F):  F\n"
     ]
    },
    {
     "name": "stdout",
     "output_type": "stream",
     "text": [
      "{'year': 2003, 'name': 'Emma', 'sex': 'F', 'count': 22709}\n",
      "{'year': 2004, 'name': 'Emma', 'sex': 'F', 'count': 21611}\n",
      "{'year': 2012, 'name': 'Emma', 'sex': 'F', 'count': 20954}\n",
      "{'year': 2013, 'name': 'Emma', 'sex': 'F', 'count': 20950}\n",
      "{'year': 2014, 'name': 'Emma', 'sex': 'F', 'count': 20943}\n",
      "{'year': 2015, 'name': 'Emma', 'sex': 'F', 'count': 20465}\n",
      "{'year': 2005, 'name': 'Emma', 'sex': 'F', 'count': 20348}\n",
      "{'year': 2017, 'name': 'Emma', 'sex': 'F', 'count': 19837}\n",
      "{'year': 2016, 'name': 'Emma', 'sex': 'F', 'count': 19522}\n",
      "{'year': 2006, 'name': 'Emma', 'sex': 'F', 'count': 19120}\n",
      "{'year': 2008, 'name': 'Emma', 'sex': 'F', 'count': 18817}\n",
      "{'year': 2011, 'name': 'Emma', 'sex': 'F', 'count': 18808}\n",
      "{'year': 2018, 'name': 'Emma', 'sex': 'F', 'count': 18770}\n",
      "{'year': 2007, 'name': 'Emma', 'sex': 'F', 'count': 18377}\n",
      "{'year': 2009, 'name': 'Emma', 'sex': 'F', 'count': 17905}\n",
      "{'year': 2010, 'name': 'Emma', 'sex': 'F', 'count': 17351}\n",
      "{'year': 2019, 'name': 'Emma', 'sex': 'F', 'count': 17155}\n",
      "{'year': 2002, 'name': 'Emma', 'sex': 'F', 'count': 16546}\n",
      "{'year': 2020, 'name': 'Emma', 'sex': 'F', 'count': 15581}\n",
      "{'year': 2001, 'name': 'Emma', 'sex': 'F', 'count': 13316}\n",
      "{'year': 2000, 'name': 'Emma', 'sex': 'F', 'count': 12556}\n"
     ]
    }
   ],
   "source": [
    "import csv\n",
    "csvfile = open('names2K.csv','r')\n",
    "reader = csv.DictReader(csvfile)\n",
    "data = [row for row in reader]\n",
    "csvfile.close()\n",
    "\n",
    "\n",
    "for d in data:\n",
    "    d['count']=int(d['count'])\n",
    "    d['year']=int(d['year'])\n",
    "\n",
    "name = input(\"Enter a name: \")\n",
    "sex = input(\"Enter a sex (M or F): \")\n",
    "\n",
    "onenamelist = [d for d in data if d['name']==name and d['sex']==sex]\n",
    "onenamelist = sorted(onenamelist,key=lambda d: d['count'],reverse=True)\n",
    "\n",
    "for d in onenamelist:\n",
    "    print(d)\n",
    "\n"
   ]
  },
  {
   "cell_type": "code",
   "execution_count": null,
   "metadata": {},
   "outputs": [],
   "source": []
  }
 ],
 "metadata": {
  "kernelspec": {
   "display_name": "Python 3",
   "language": "python",
   "name": "python3"
  },
  "language_info": {
   "codemirror_mode": {
    "name": "ipython",
    "version": 3
   },
   "file_extension": ".py",
   "mimetype": "text/x-python",
   "name": "python",
   "nbconvert_exporter": "python",
   "pygments_lexer": "ipython3",
   "version": "3.8.5"
  }
 },
 "nbformat": 4,
 "nbformat_minor": 4
}
